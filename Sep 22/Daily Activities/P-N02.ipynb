{
 "cells": [
  {
   "cell_type": "code",
   "execution_count": 1,
   "id": "5374e0b6-740a-4571-b382-19fcbe5563f6",
   "metadata": {},
   "outputs": [],
   "source": [
    "import pandas as pd\n",
    "import numpy as np"
   ]
  },
  {
   "cell_type": "code",
   "execution_count": 2,
   "id": "e9cfa2e3-ddbf-4ac9-8907-5a879de461e8",
   "metadata": {},
   "outputs": [],
   "source": [
    "data = {\n",
    "    \"Name\": [\"Rahul\", \"Priya\", \"Arjun\", \"Neha\", \"Vikram\"],\n",
    "    \"Age\": [21, 22, 20, 23, 21],\n",
    "    \"Course\": [\"AI\", \"ML\", \"Data Science\", \"AI\", \"ML\"],\n",
    "    \"Marks\": [85, 90, 78, 88, 95]\n",
    "}"
   ]
  },
  {
   "cell_type": "code",
   "execution_count": 3,
   "id": "704ff641-8d46-47bb-b1a3-22af522670da",
   "metadata": {},
   "outputs": [],
   "source": [
    "df=pd.DataFrame(data)"
   ]
  },
  {
   "cell_type": "code",
   "execution_count": 4,
   "id": "d01557ab-239e-488e-9028-555ff4561b1e",
   "metadata": {},
   "outputs": [
    {
     "name": "stdout",
     "output_type": "stream",
     "text": [
      "     Name  Age        Course  Marks\n",
      "0   Rahul   21            AI     85\n",
      "1   Priya   22            ML     90\n",
      "2   Arjun   20  Data Science     78\n",
      "3    Neha   23            AI     88\n",
      "4  Vikram   21            ML     95\n"
     ]
    }
   ],
   "source": [
    "print(df)"
   ]
  },
  {
   "cell_type": "code",
   "execution_count": 5,
   "id": "0381c3fc-397e-460c-803d-f217774b8877",
   "metadata": {},
   "outputs": [
    {
     "name": "stdout",
     "output_type": "stream",
     "text": [
      "0     Rahul\n",
      "1     Priya\n",
      "2     Arjun\n",
      "3      Neha\n",
      "4    Vikram\n",
      "Name: Name, dtype: object\n"
     ]
    }
   ],
   "source": [
    "print(df[\"Name\"])"
   ]
  },
  {
   "cell_type": "code",
   "execution_count": 6,
   "id": "ecaff382-1d6a-43c7-98e4-29848a7eb038",
   "metadata": {},
   "outputs": [
    {
     "name": "stdout",
     "output_type": "stream",
     "text": [
      "     Name  Age\n",
      "0   Rahul   21\n",
      "1   Priya   22\n",
      "2   Arjun   20\n",
      "3    Neha   23\n",
      "4  Vikram   21\n"
     ]
    }
   ],
   "source": [
    "print(df[[\"Name\",\"Age\"]]) #print multiple col"
   ]
  },
  {
   "cell_type": "code",
   "execution_count": 7,
   "id": "bdb948a6-1d30-4824-85f1-4aa4ba2c98ae",
   "metadata": {},
   "outputs": [
    {
     "name": "stdout",
     "output_type": "stream",
     "text": [
      "Name      Rahul\n",
      "Age          21\n",
      "Course       AI\n",
      "Marks        85\n",
      "Name: 0, dtype: object\n"
     ]
    }
   ],
   "source": [
    "print(df.iloc[0]) #print first row"
   ]
  },
  {
   "cell_type": "code",
   "execution_count": 8,
   "id": "aa4e4d60-4c7c-4929-8e8f-6c7d86891a5d",
   "metadata": {},
   "outputs": [
    {
     "name": "stdout",
     "output_type": "stream",
     "text": [
      "78\n"
     ]
    }
   ],
   "source": [
    "print(df.loc[2,\"Marks\"]) #print marks as 2nd position"
   ]
  },
  {
   "cell_type": "code",
   "execution_count": 9,
   "id": "8a69b659-0d51-4273-9f9e-f4e18f368295",
   "metadata": {},
   "outputs": [
    {
     "name": "stdout",
     "output_type": "stream",
     "text": [
      "     Name  Age Course  Marks\n",
      "1   Priya   22     ML     90\n",
      "3    Neha   23     AI     88\n",
      "4  Vikram   21     ML     95\n"
     ]
    }
   ],
   "source": [
    "high_scores=df[df[\"Marks\"]>85] #filtering records\n",
    "print(high_scores)"
   ]
  },
  {
   "cell_type": "code",
   "execution_count": 10,
   "id": "5ca5721b-9aa0-4595-b773-756695c60237",
   "metadata": {},
   "outputs": [
    {
     "name": "stdout",
     "output_type": "stream",
     "text": [
      "     Name  Age        Course  Marks results\n",
      "0   Rahul   21            AI     85    Pass\n",
      "1   Priya   22            ML     90    Pass\n",
      "2   Arjun   20  Data Science     78    Fail\n",
      "3    Neha   23            AI     90    Pass\n",
      "4  Vikram   21            ML     95    Pass\n"
     ]
    }
   ],
   "source": [
    "df[\"results\"]=np.where(df[\"Marks\"]>80,\"Pass\", \"Fail\")\n",
    "\n",
    "df.loc[df[\"Name\"]==\"Neha\", \"Marks\"]=90\n",
    "print(df)"
   ]
  },
  {
   "cell_type": "code",
   "execution_count": 12,
   "id": "2d44a047-3fb4-405a-9ebc-76d1deb26672",
   "metadata": {},
   "outputs": [
    {
     "name": "stdout",
     "output_type": "stream",
     "text": [
      "Requirement already satisfied: matplotlib in c:\\users\\user1\\appdata\\local\\programs\\python\\python311\\lib\\site-packages (3.10.6)\n",
      "Requirement already satisfied: contourpy>=1.0.1 in c:\\users\\user1\\appdata\\local\\programs\\python\\python311\\lib\\site-packages (from matplotlib) (1.3.3)\n",
      "Requirement already satisfied: cycler>=0.10 in c:\\users\\user1\\appdata\\local\\programs\\python\\python311\\lib\\site-packages (from matplotlib) (0.12.1)\n",
      "Requirement already satisfied: fonttools>=4.22.0 in c:\\users\\user1\\appdata\\local\\programs\\python\\python311\\lib\\site-packages (from matplotlib) (4.60.0)\n",
      "Requirement already satisfied: kiwisolver>=1.3.1 in c:\\users\\user1\\appdata\\local\\programs\\python\\python311\\lib\\site-packages (from matplotlib) (1.4.9)\n",
      "Requirement already satisfied: numpy>=1.23 in c:\\users\\user1\\appdata\\local\\programs\\python\\python311\\lib\\site-packages (from matplotlib) (2.3.3)\n",
      "Requirement already satisfied: packaging>=20.0 in c:\\users\\user1\\appdata\\local\\programs\\python\\python311\\lib\\site-packages (from matplotlib) (25.0)\n",
      "Requirement already satisfied: pillow>=8 in c:\\users\\user1\\appdata\\local\\programs\\python\\python311\\lib\\site-packages (from matplotlib) (11.3.0)\n",
      "Requirement already satisfied: pyparsing>=2.3.1 in c:\\users\\user1\\appdata\\local\\programs\\python\\python311\\lib\\site-packages (from matplotlib) (3.2.5)\n",
      "Requirement already satisfied: python-dateutil>=2.7 in c:\\users\\user1\\appdata\\local\\programs\\python\\python311\\lib\\site-packages (from matplotlib) (2.9.0.post0)\n",
      "Requirement already satisfied: six>=1.5 in c:\\users\\user1\\appdata\\local\\programs\\python\\python311\\lib\\site-packages (from python-dateutil>=2.7->matplotlib) (1.17.0)\n",
      "Note: you may need to restart the kernel to use updated packages.\n"
     ]
    },
    {
     "name": "stderr",
     "output_type": "stream",
     "text": [
      "\n",
      "[notice] A new release of pip available: 22.3 -> 25.2\n",
      "[notice] To update, run: python.exe -m pip install --upgrade pip\n"
     ]
    }
   ],
   "source": [
    "pip install matplotlib"
   ]
  },
  {
   "cell_type": "code",
   "execution_count": 15,
   "id": "1bf87bd5-af2c-4eb4-b2b0-ff1ac61ffd73",
   "metadata": {},
   "outputs": [
    {
     "data": {
      "image/png": "[encoded data removed]",
      "text/plain": [
       "<Figure size 640x480 with 1 Axes>"
      ]
     },
     "metadata": {},
     "output_type": "display_data"
    }
   ],
   "source": [
    "import matplotlib.pyplot as plt\n",
    "\n",
    "average_marks=df.groupby(\"Course\")[\"Marks\"].mean()\n",
    "\n",
    "average_marks.plot(kind=\"bar\", color=\"skyblue\", edgecolor=\"black\")\n",
    "plt.title(\"Average marks of students per course\")\n",
    "plt.xlabel(\"Course\")\n",
    "plt.ylabel(\"Average marks\")\n",
    "plt.xticks(rotation=45)\n",
    "plt.yticks(rotation=45)\n",
    "plt.show()"
   ]
  },
  {
   "cell_type": "code",
   "execution_count": null,
   "id": "3e749c71-0429-43e2-afc4-c06f6215c131",
   "metadata": {},
   "outputs": [],
   "source": []
  }
 ],
 "metadata": {
  "kernelspec": {
   "display_name": "Python 3 (ipykernel)",
   "language": "python",
   "name": "python3"
  },
  "language_info": {
   "codemirror_mode": {
    "name": "ipython",
    "version": 3
   },
   "file_extension": ".py",
   "mimetype": "text/x-python",
   "name": "python",
   "nbconvert_exporter": "python",
   "pygments_lexer": "ipython3",
   "version": "3.11.0"
  }
 },
 "nbformat": 4,
 "nbformat_minor": 5
}
